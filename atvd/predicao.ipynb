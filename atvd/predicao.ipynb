{
 "cells": [
  {
   "cell_type": "code",
   "execution_count": 11,
   "id": "481c8478",
   "metadata": {},
   "outputs": [],
   "source": [
    "#Importando bibliotecas \n",
    "\n",
    "import pickle\n",
    "import pandas as pd\n",
    "import gradio as gr"
   ]
  },
  {
   "cell_type": "code",
   "execution_count": 12,
   "id": "9f556146",
   "metadata": {},
   "outputs": [],
   "source": [
    "# Carregar o modelo \n",
    "with open('../modelotreinado.pkl', 'rb') as f:\n",
    "    modelo = pickle.load(f)\n",
    "\n",
    "# Colunas usadas durante o treinamento\n",
    "colunas_modelo = ['GENETICA', 'ARPOLUICAO', 'ALCOOL', 'FUMO', 'OBESIDADE', 'GRAVE']"
   ]
  },
  {
   "cell_type": "code",
   "execution_count": 13,
   "id": "781b13c5",
   "metadata": {},
   "outputs": [],
   "source": [
    "def gravidade_cancer(GENETICA, ARPOLUICAO, ALCOOL, FUMO, OBESIDADE):\n",
    "    inverse_map_gravidade = {0: 'Leve', 1: 'Moderado', 2: 'Severo'}\n",
    "\n",
    "    # Criar DataFrame com os dados de entrada\n",
    "    tgpc = pd.DataFrame({\n",
    "        'GENETICA': [GENETICA],\n",
    "        'ARPOLUICAO': [ARPOLUICAO], \n",
    "        'ALCOOL': [ALCOOL],\n",
    "        'FUMO': [FUMO],\n",
    "        'OBESIDADE': [OBESIDADE]\n",
    "    })\n",
    "\n",
    "    # Fazer a predição\n",
    "    predicao = modelo.predict(tgpc)[0]\n",
    "\n",
    "    return f\"A gravidade do câncer é: {inverse_map_gravidade.get(predicao, 'Desconhecida')}\"\n"
   ]
  },
  {
   "cell_type": "code",
   "execution_count": 14,
   "id": "f916c8b2",
   "metadata": {},
   "outputs": [
    {
     "name": "stdout",
     "output_type": "stream",
     "text": [
      "* Running on local URL:  http://127.0.0.1:7867\n",
      "* Running on public URL: https://8048cd777d58deef18.gradio.live\n",
      "\n",
      "This share link expires in 1 week. For free permanent hosting and GPU upgrades, run `gradio deploy` from the terminal in the working directory to deploy to Hugging Face Spaces (https://huggingface.co/spaces)\n"
     ]
    },
    {
     "data": {
      "text/html": [
       "<div><iframe src=\"https://8048cd777d58deef18.gradio.live\" width=\"100%\" height=\"500\" allow=\"autoplay; camera; microphone; clipboard-read; clipboard-write;\" frameborder=\"0\" allowfullscreen></iframe></div>"
      ],
      "text/plain": [
       "<IPython.core.display.HTML object>"
      ]
     },
     "metadata": {},
     "output_type": "display_data"
    },
    {
     "data": {
      "text/plain": []
     },
     "execution_count": 14,
     "metadata": {},
     "output_type": "execute_result"
    }
   ],
   "source": [
    "\n",
    "# Interface\n",
    "interface = gr.Interface(\n",
    "    fn=gravidade_cancer,\n",
    "    inputs=[\n",
    "        gr.Slider(0, 10, step=1, label=\"Predisposição genética para câncer\"),\n",
    "        gr.Slider(0, 10, step=1, label=\"Intensidade da poluição do ar na sua região\"),\n",
    "        gr.Slider(0, 10, step=1, label=\"Consumo de álcool\"),\n",
    "        gr.Slider(0, 10, step=1, label=\"Nível de fumo\"),\n",
    "        gr.Slider(0, 10, step=1, label=\"Grau de obesidade\")\n",
    "    ],\n",
    "    outputs=gr.Textbox(label=\"Resultado da Predição\", lines=3),\n",
    "    title=\"Predição da Gravidade do Câncer\",\n",
    "    description=\"\"\"\n",
    "    Informe seus fatores de risco utilizando os controles deslizantes abaixo para prever a possível gravidade do câncer.\n",
    "    Os valores devem ir de 0 (baixo risco) até 10 (alto risco).\n",
    "    \"\"\",\n",
    "    theme=\"soft\"\n",
    ")\n",
    "\n",
    "# Lançar a interface\n",
    "interface.launch(share=True)\n"
   ]
  }
 ],
 "metadata": {
  "kernelspec": {
   "display_name": ".venv",
   "language": "python",
   "name": "python3"
  },
  "language_info": {
   "codemirror_mode": {
    "name": "ipython",
    "version": 3
   },
   "file_extension": ".py",
   "mimetype": "text/x-python",
   "name": "python",
   "nbconvert_exporter": "python",
   "pygments_lexer": "ipython3",
   "version": "3.11.9"
  }
 },
 "nbformat": 4,
 "nbformat_minor": 5
}
